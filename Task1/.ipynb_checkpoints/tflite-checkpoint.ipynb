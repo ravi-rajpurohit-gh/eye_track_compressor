{
 "cells": [
  {
   "cell_type": "code",
   "execution_count": null,
   "id": "52d143ff",
   "metadata": {},
   "outputs": [],
   "source": [
    "import pandas as pd\n",
    "import numpy as np\n",
    "import tensorflow as tf\n",
    "from sklearn.preprocessing import LabelEncoder\n",
    "from keras.utils import to_categorical\n",
    " \n",
    "# reading the csb into data frame\n",
    "df = pd.read_csv('../data.csv')\n",
    " \n",
    "# specifying the columns values into x and y variable\n",
    "# iloc range based selecting 0 to 4 (4) values\n",
    "X = df.iloc[:, :4].values\n",
    "y = df.iloc[:, 4].values\n",
    " \n",
    "# normalizing labels\n",
    "le = LabelEncoder()\n",
    " \n",
    "# performing fit and transform data on y\n",
    "y = le.fit_transform(y)\n",
    " \n",
    "y = to_categorical(y)\n",
    " \n",
    "from tensorflow.keras.layers import Dense\n",
    "from tensorflow.keras.models import Sequential\n",
    " \n",
    "model = Sequential()\n",
    " \n",
    "# input layer\n",
    "# passing number neurons =64\n",
    "# relu activation\n",
    "# shape of neuron 4\n",
    "model.add(Dense(64, activation='relu', input_shape=[4]))\n",
    " \n",
    "# processing layer\n",
    "# adding another denser layer of size 64\n",
    "model.add(Dense(64))\n",
    " \n",
    "# creating 3 output neuron\n",
    "model.add(Dense(3, activation='softmax'))\n",
    " \n",
    " \n",
    "# compiling model\n",
    "model.compile(optimizer='sgd', loss='categorical_crossentropy',\n",
    "              metrics=['acc'])\n",
    " \n",
    "# training the model for fixed number of iterations (epoches)\n",
    "model.fit(X, y, epochs=200)\n",
    " \n",
    "from tensorflow import lite\n",
    "converter = lite.TFLiteConverter.from_keras_model(model)\n",
    " \n",
    "tfmodel = converter.convert()\n",
    " \n",
    "open('iris.tflite', 'wb').write(tfmodel)"
   ]
  }
 ],
 "metadata": {
  "kernelspec": {
   "display_name": "Python 3 (ipykernel)",
   "language": "python",
   "name": "python3"
  },
  "language_info": {
   "codemirror_mode": {
    "name": "ipython",
    "version": 3
   },
   "file_extension": ".py",
   "mimetype": "text/x-python",
   "name": "python",
   "nbconvert_exporter": "python",
   "pygments_lexer": "ipython3",
   "version": "3.9.12"
  }
 },
 "nbformat": 4,
 "nbformat_minor": 5
}
