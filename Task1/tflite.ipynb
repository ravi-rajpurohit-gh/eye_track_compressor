{
  "nbformat": 4,
  "nbformat_minor": 0,
  "metadata": {
    "colab": {
      "provenance": []
    },
    "kernelspec": {
      "name": "python3",
      "display_name": "Python 3"
    },
    "language_info": {
      "name": "python"
    }
  },
  "cells": [
    {
      "cell_type": "code",
      "source": [
        "import tensorflow as tf\n",
        "import numpy as np\n",
        "import pandas as pd"
      ],
      "metadata": {
        "id": "adU7etQs6_c_"
      },
      "execution_count": 1,
      "outputs": []
    },
    {
      "cell_type": "code",
      "source": [
        "# Set the random seed for reproducibility\n",
        "tf.random.set_seed(42)\n",
        "\n",
        "df = pd.read_csv('data.csv', usecols=[4,5])\n",
        "data = df.values\n",
        "timesteps = data.shape[0]\n",
        "\n",
        "# Define the input shape and output shape\n",
        "input_shape = (None, timesteps, 2)  # (batch_size, timesteps, input_dim)\n",
        "output_shape = (None, 50)  # (batch_size, output_dim)"
      ],
      "metadata": {
        "id": "cRhg-VJ77B4m"
      },
      "execution_count": 2,
      "outputs": []
    },
    {
      "cell_type": "code",
      "source": [
        "# Define the LSTM model\n",
        "model = tf.keras.models.Sequential([\n",
        "    tf.keras.layers.LSTM(64, input_shape=input_shape[1:]),\n",
        "    tf.keras.layers.Dense(output_shape[1], activation='linear')\n",
        "])"
      ],
      "metadata": {
        "id": "2nCCM55f7D5q"
      },
      "execution_count": 3,
      "outputs": []
    },
    {
      "cell_type": "code",
      "source": [
        "# Generate the output\n",
        "output_data = model.predict(np.expand_dims(data, axis=0))"
      ],
      "metadata": {
        "colab": {
          "base_uri": "https://localhost:8080/"
        },
        "id": "V1XAiepRA_d4",
        "outputId": "0fc4eae4-07c1-4717-eb7f-513ef8fc4f8b"
      },
      "execution_count": 4,
      "outputs": [
        {
          "output_type": "stream",
          "name": "stdout",
          "text": [
            "1/1 [==============================] - 1s 636ms/step\n"
          ]
        }
      ]
    },
    {
      "cell_type": "code",
      "source": [
        "from tensorflow import lite\n",
        "converter = lite.TFLiteConverter.from_keras_model(model)\n",
        "\n",
        "converter.optimizations = [tf.lite.Optimize.DEFAULT]\n",
        "converter.experimental_new_converter=True\n",
        "converter.target_spec.supported_ops = [tf.lite.OpsSet.TFLITE_BUILTINS,\n",
        "tf.lite.OpsSet.SELECT_TF_OPS]\n",
        "\n",
        "tfmodel = converter.convert()\n",
        "with open('model.tflite', 'wb') as f:\n",
        "  f.write(tfmodel)\n",
        "  # f.close()"
      ],
      "metadata": {
        "id": "5mwZy1g2HDBj"
      },
      "execution_count": 6,
      "outputs": []
    }
  ]
}